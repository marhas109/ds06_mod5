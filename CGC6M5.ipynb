{
  "nbformat": 4,
  "nbformat_minor": 0,
  "metadata": {
    "colab": {
      "provenance": []
    },
    "kernelspec": {
      "name": "python3",
      "display_name": "Python 3"
    },
    "language_info": {
      "name": "python"
    }
  },
  "cells": [
    {
      "cell_type": "markdown",
      "source": [
        "## Module 5: General Linear Regression and Statistical Inference"
      ],
      "metadata": {
        "id": "-iHUT5vDAZgK"
      }
    },
    {
      "cell_type": "markdown",
      "source": [
        "### Step 0\n",
        "\n",
        "Load the appropriate libraries and bring in the data. Note that we have to run a script to get the [California Housing dataset](https://scikit-learn.org/stable/modules/generated/sklearn.datasets.fetch_california_housing.html) to match as it is in scikit-learn. We cannot pull it directly from scikit-learn since CodeGrade cannot access the internet."
      ],
      "metadata": {
        "id": "vHnXvUURAeto"
      }
    },
    {
      "cell_type": "code",
      "execution_count": null,
      "metadata": {
        "id": "99AfKmqPyD4V"
      },
      "outputs": [],
      "source": [
        "# CodeGrade step0\n",
        "\n",
        "from sklearn.datasets import fetch_california_housing\n",
        "import pandas as pd\n",
        "import numpy as np\n",
        "import matplotlib.pyplot as plt\n",
        "from sklearn.linear_model import LinearRegression\n",
        "from scipy.stats import pearsonr\n",
        "import os\n",
        "import tarfile\n",
        "import joblib # Import joblib directly\n",
        "from sklearn.datasets._base import _pkl_filepath, get_data_home\n",
        "import statsmodels.api as sm\n",
        "import statsmodels.formula.api as smf\n",
        "import seaborn as sns\n",
        "\n",
        "archive_path = \"cal_housing.tgz\" # change the path if it's not in the current directory\n",
        "data_home = get_data_home(data_home=None) # change data_home if you are not using ~/scikit_learn_data\n",
        "if not os.path.exists(data_home):\n",
        "    os.makedirs(data_home)\n",
        "filepath = _pkl_filepath(data_home, 'cal_housing.pkz')\n",
        "\n",
        "with tarfile.open(mode=\"r:gz\", name=archive_path) as f:\n",
        "    cal_housing = np.loadtxt(\n",
        "        f.extractfile('CaliforniaHousing/cal_housing.data'),\n",
        "        delimiter=',')\n",
        "    # Columns are not in the same order compared to the previous\n",
        "    # URL resource on lib.stat.cmu.edu\n",
        "    columns_index = [8, 7, 2, 3, 4, 5, 6, 1, 0]\n",
        "    cal_housing = cal_housing[:, columns_index]\n",
        "\n",
        "    joblib.dump(cal_housing, filepath, compress=6) # Now using the directly imported joblib\n",
        "\n",
        "\n",
        "# Load the dataset\n",
        "california = fetch_california_housing(as_frame=True)\n",
        "data = california.data\n",
        "data['MedianHouseValue'] = california.target"
      ]
    },
    {
      "cell_type": "markdown",
      "source": [
        "Print the basic information of the data using `.info()` and `.describe`."
      ],
      "metadata": {
        "id": "giqgu5WUAgjw"
      }
    },
    {
      "cell_type": "code",
      "source": [
        "# Display basic information\n"
      ],
      "metadata": {
        "id": "jt8ei2mGydmu"
      },
      "execution_count": null,
      "outputs": []
    },
    {
      "cell_type": "markdown",
      "source": [
        "### Step 1\n",
        "\n",
        "Let `X` be the variables `MedInc`, `AveRooms`, and `AveOccup` and add the constant for the intercept. Let `y` be the `MedianHouseValue`.\n",
        "\n",
        "Now fit the regreson model calling it `mlr_model`.\n",
        "\n",
        "Finally, return the $r^2$ value of the model rounding to four decimal places."
      ],
      "metadata": {
        "id": "LPgA030kAoI2"
      }
    },
    {
      "cell_type": "code",
      "source": [
        "# CodeGrade step1\n"
      ],
      "metadata": {
        "id": "UiWsfxWsyfG4"
      },
      "execution_count": null,
      "outputs": []
    },
    {
      "cell_type": "markdown",
      "source": [
        "Print the model summary."
      ],
      "metadata": {
        "id": "EwHukQYxBChE"
      }
    },
    {
      "cell_type": "code",
      "source": [
        "# Print the model summary\n"
      ],
      "metadata": {
        "id": "BVMO2EcHzCt6"
      },
      "execution_count": null,
      "outputs": []
    },
    {
      "cell_type": "markdown",
      "source": [
        "### Step 2\n",
        "\n",
        "Let `p_values` be the models' p-values.\n",
        "\n",
        "Return the four p-values using `.iloc[]` from the first value to the fourth, in order and separated by commas. Make sure to round each to 5 decimal places."
      ],
      "metadata": {
        "id": "P5akEN0BBEhH"
      }
    },
    {
      "cell_type": "code",
      "source": [
        "# CodeGrade step2\n"
      ],
      "metadata": {
        "id": "wIngVeY4zSZT"
      },
      "execution_count": null,
      "outputs": []
    },
    {
      "cell_type": "markdown",
      "source": [
        "### Step 3\n",
        "\n",
        "Identify the significant predictors (strictly less than $\\alpha=0.05$) calling this `significant_predictors`.\n",
        "\n",
        "Reutn the shape of `significant_predictors`."
      ],
      "metadata": {
        "id": "NCrUTHoIBm6W"
      }
    },
    {
      "cell_type": "code",
      "source": [
        "# CodeGrade step3\n"
      ],
      "metadata": {
        "id": "4kJT99avzwD_"
      },
      "execution_count": null,
      "outputs": []
    },
    {
      "cell_type": "markdown",
      "source": [
        "### Step 4\n",
        "\n",
        "Find the confidence intervals of the model (at a 95% level of confidence) and calling this `conf_intervals`.\n",
        "\n",
        "Using `.iloc[,]` and rounding to 2 decimal places return the four confidence intervals in order of (separated by commas)\n",
        "\n",
        "> first row and first column, first row and second column, second row and first column, second row and second column\n",
        "\n",
        "\n",
        "\n"
      ],
      "metadata": {
        "id": "aAmhEckbB9AH"
      }
    },
    {
      "cell_type": "code",
      "source": [
        "# CodeGrade step4\n"
      ],
      "metadata": {
        "id": "vXIdrhhnz2VA"
      },
      "execution_count": null,
      "outputs": []
    },
    {
      "cell_type": "markdown",
      "source": [
        "Now to see how the intervals looks \"nicely\" return `conf_intervals`."
      ],
      "metadata": {
        "id": "OgK1kFgACm95"
      }
    },
    {
      "cell_type": "code",
      "source": [
        "#Pretty CIs\n"
      ],
      "metadata": {
        "id": "TYIhEIxY0Cf1"
      },
      "execution_count": null,
      "outputs": []
    },
    {
      "cell_type": "markdown",
      "source": [
        "### Step 5\n",
        "\n",
        "Add a quadratic term to the model, calling the new model `quad_model` where a new term is added to the data, viz. `MedInc_squared`, which is the square of `MedInc`.\n",
        "\n",
        "Return $r^2$ of the quadratic model rounded to four decumal places."
      ],
      "metadata": {
        "id": "H3si3dfxCt0K"
      }
    },
    {
      "cell_type": "code",
      "source": [
        "# CodeGrade step5\n"
      ],
      "metadata": {
        "id": "9NAxhMdb1LQL"
      },
      "execution_count": null,
      "outputs": []
    },
    {
      "cell_type": "markdown",
      "source": [
        "Now print the model summary."
      ],
      "metadata": {
        "id": "1yGQ9JyKDLYt"
      }
    },
    {
      "cell_type": "code",
      "source": [
        "# Print the model summary\n"
      ],
      "metadata": {
        "id": "aB8zNExq1P1a"
      },
      "execution_count": null,
      "outputs": []
    },
    {
      "cell_type": "markdown",
      "source": [
        "### Step 6\n",
        "\n",
        "Find the adjusted $r^2$ for both of the models and call them `adjusted_r2_base` and `adjusted_r2_quad`, respectively.\n",
        "\n",
        "Return these two adjusted $r^2$'s rounded to four decimal places, separated by a comma."
      ],
      "metadata": {
        "id": "Js07jw5fDNVq"
      }
    },
    {
      "cell_type": "code",
      "source": [
        "# CodeGrade step6\n"
      ],
      "metadata": {
        "id": "osyj44PQ1XFm"
      },
      "execution_count": null,
      "outputs": []
    },
    {
      "cell_type": "markdown",
      "source": [
        "Print both these adjusted $r^2$'s."
      ],
      "metadata": {
        "id": "DBOHz2ijDlUN"
      }
    },
    {
      "cell_type": "code",
      "source": [],
      "metadata": {
        "id": "RbEYbPxx1gbo"
      },
      "execution_count": null,
      "outputs": []
    }
  ]
}