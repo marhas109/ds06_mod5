{
 "cells": [
  {
   "cell_type": "markdown",
   "id": "870452b5",
   "metadata": {},
   "source": [
    "### Illiteracy Rates and Demographic Features ###"
   ]
  },
  {
   "cell_type": "markdown",
   "id": "14b6d483",
   "metadata": {},
   "source": [
    "#### Data Setup and Exploration ####"
   ]
  },
  {
   "cell_type": "code",
   "execution_count": 2,
   "id": "9757ac6a",
   "metadata": {},
   "outputs": [
    {
     "name": "stdout",
     "output_type": "stream",
     "text": [
      "  State  Population  Income  Illiteracy  LifeExp  Murder  HSGrad  Frost  \\\n",
      "0    AL        3615    3624         2.1    69.05    15.1    41.3     20   \n",
      "1    AK         365    6315         1.5    69.31    11.3    66.7    152   \n",
      "2    AZ        2212    4530         1.8    70.55     7.8    58.1     15   \n",
      "3    AR        2110    3378         1.9    70.66    10.1    39.9     65   \n",
      "4    CA       21198    5114         1.1    71.71    10.3    62.6     20   \n",
      "\n",
      "     Area  \n",
      "0   50708  \n",
      "1  566432  \n",
      "2  113417  \n",
      "3   51945  \n",
      "4  156361  \n",
      "<class 'pandas.core.frame.DataFrame'>\n",
      "RangeIndex: 50 entries, 0 to 49\n",
      "Data columns (total 9 columns):\n",
      " #   Column      Non-Null Count  Dtype  \n",
      "---  ------      --------------  -----  \n",
      " 0   State       50 non-null     object \n",
      " 1   Population  50 non-null     int64  \n",
      " 2   Income      50 non-null     int64  \n",
      " 3   Illiteracy  50 non-null     float64\n",
      " 4   LifeExp     50 non-null     float64\n",
      " 5   Murder      50 non-null     float64\n",
      " 6   HSGrad      50 non-null     float64\n",
      " 7   Frost       50 non-null     int64  \n",
      " 8   Area        50 non-null     int64  \n",
      "dtypes: float64(4), int64(4), object(1)\n",
      "memory usage: 3.6+ KB\n",
      "None\n",
      "         Population       Income  Illiteracy    LifeExp    Murder     HSGrad  \\\n",
      "count     50.000000    50.000000   50.000000  50.000000  50.00000  50.000000   \n",
      "mean    4246.420000  4435.800000    1.170000  70.878600   7.37800  53.108000   \n",
      "std     4464.491433   614.469939    0.609533   1.342394   3.69154   8.076998   \n",
      "min      365.000000  3098.000000    0.500000  67.960000   1.40000  37.800000   \n",
      "25%     1079.500000  3992.750000    0.625000  70.117500   4.35000  48.050000   \n",
      "50%     2838.500000  4519.000000    0.950000  70.675000   6.85000  53.250000   \n",
      "75%     4968.500000  4813.500000    1.575000  71.892500  10.67500  59.150000   \n",
      "max    21198.000000  6315.000000    2.800000  73.600000  15.10000  67.300000   \n",
      "\n",
      "            Frost           Area  \n",
      "count   50.000000      50.000000  \n",
      "mean   104.460000   70735.880000  \n",
      "std     51.980848   85327.299622  \n",
      "min      0.000000    1049.000000  \n",
      "25%     66.250000   36985.250000  \n",
      "50%    114.500000   54277.000000  \n",
      "75%    139.750000   81162.500000  \n",
      "max    188.000000  566432.000000  \n"
     ]
    }
   ],
   "source": [
    "import pandas as pd\n",
    "import statsmodels.api as sm\n",
    "import statsmodels.formula.api as smf\n",
    "import numpy as np\n",
    "\n",
    "# Load dataset\n",
    "from faraway.datasets import statedata\n",
    "data = statedata.load()\n",
    "\n",
    "# Inspect data\n",
    "print(data.head())\n",
    "print(data.info())\n",
    "print(data.describe())"
   ]
  },
  {
   "cell_type": "markdown",
   "id": "65913d3d",
   "metadata": {},
   "source": [
    "#### Fit the Regression Model ####\n",
    "\n",
    "The response variable is Illiteracy, and the predictors are Income and Population."
   ]
  },
  {
   "cell_type": "code",
   "execution_count": 3,
   "id": "ee399a5f",
   "metadata": {},
   "outputs": [
    {
     "name": "stdout",
     "output_type": "stream",
     "text": [
      "                            OLS Regression Results                            \n",
      "==============================================================================\n",
      "Dep. Variable:             Illiteracy   R-squared:                       0.232\n",
      "Model:                            OLS   Adj. R-squared:                  0.200\n",
      "Method:                 Least Squares   F-statistic:                     7.110\n",
      "Date:                Sun, 26 Oct 2025   Prob (F-statistic):            0.00201\n",
      "Time:                        16:33:22   Log-Likelihood:                -39.081\n",
      "No. Observations:                  50   AIC:                             84.16\n",
      "Df Residuals:                      47   BIC:                             89.90\n",
      "Df Model:                           2                                         \n",
      "Covariance Type:            nonrobust                                         \n",
      "==============================================================================\n",
      "                 coef    std err          t      P>|t|      [0.025      0.975]\n",
      "------------------------------------------------------------------------------\n",
      "Intercept      3.1631      0.569      5.556      0.000       2.018       4.308\n",
      "Income        -0.0005      0.000     -3.676      0.001      -0.001      -0.000\n",
      "Population  2.835e-05   1.78e-05      1.589      0.119   -7.54e-06    6.42e-05\n",
      "==============================================================================\n",
      "Omnibus:                        4.162   Durbin-Watson:                   1.693\n",
      "Prob(Omnibus):                  0.125   Jarque-Bera (JB):                4.028\n",
      "Skew:                           0.667   Prob(JB):                        0.133\n",
      "Kurtosis:                       2.607   Cond. No.                     5.22e+04\n",
      "==============================================================================\n",
      "\n",
      "Notes:\n",
      "[1] Standard Errors assume that the covariance matrix of the errors is correctly specified.\n",
      "[2] The condition number is large, 5.22e+04. This might indicate that there are\n",
      "strong multicollinearity or other numerical problems.\n"
     ]
    }
   ],
   "source": [
    "mlr_model = smf.ols(formula=\"Illiteracy ~ Income + Population\", data=data).fit()\n",
    "print(mlr_model.summary())"
   ]
  },
  {
   "cell_type": "markdown",
   "id": "dbea4417",
   "metadata": {},
   "source": [
    "#### Hypothesis Test for Slopes ####"
   ]
  },
  {
   "cell_type": "code",
   "execution_count": 4,
   "id": "1e84936d",
   "metadata": {},
   "outputs": [
    {
     "name": "stdout",
     "output_type": "stream",
     "text": [
      "Income slope: -0.00047645183275191844 | p-value: 0.0006075011660540417\n",
      "Population slope: 2.834840455181858e-05 | p-value: 0.11876474405794965\n"
     ]
    }
   ],
   "source": [
    "# Print slopes and p-values\n",
    "print(\"Income slope:\", mlr_model.params['Income'], \"| p-value:\", mlr_model.pvalues['Income'])\n",
    "print(\"Population slope:\", mlr_model.params['Population'], \"| p-value:\", mlr_model.pvalues['Population'])"
   ]
  },
  {
   "cell_type": "markdown",
   "id": "06d19eaa",
   "metadata": {},
   "source": [
    "#### Confidence Intervals ####"
   ]
  },
  {
   "cell_type": "code",
   "execution_count": 6,
   "id": "ec00c96f",
   "metadata": {},
   "outputs": [
    {
     "name": "stdout",
     "output_type": "stream",
     "text": [
      "                   0         1\n",
      "Intercept   2.017716  4.308416\n",
      "Income     -0.000737 -0.000216\n",
      "Population -0.000008  0.000064\n"
     ]
    }
   ],
   "source": [
    "print(mlr_model.conf_int(alpha=0.05))\n"
   ]
  },
  {
   "cell_type": "markdown",
   "id": "023b90b4",
   "metadata": {},
   "source": [
    "#### Quadratic Model ####"
   ]
  },
  {
   "cell_type": "code",
   "execution_count": 7,
   "id": "1a8aef41",
   "metadata": {},
   "outputs": [
    {
     "name": "stdout",
     "output_type": "stream",
     "text": [
      "                            OLS Regression Results                            \n",
      "==============================================================================\n",
      "Dep. Variable:             Illiteracy   R-squared:                       0.399\n",
      "Model:                            OLS   Adj. R-squared:                  0.373\n",
      "Method:                 Least Squares   F-statistic:                     15.58\n",
      "Date:                Sun, 26 Oct 2025   Prob (F-statistic):           6.45e-06\n",
      "Time:                        16:35:43   Log-Likelihood:                -32.974\n",
      "No. Observations:                  50   AIC:                             71.95\n",
      "Df Residuals:                      47   BIC:                             77.68\n",
      "Df Model:                           2                                         \n",
      "Covariance Type:            nonrobust                                         \n",
      "==============================================================================\n",
      "                 coef    std err          t      P>|t|      [0.025      0.975]\n",
      "------------------------------------------------------------------------------\n",
      "Intercept     12.7604      2.452      5.204      0.000       7.828      17.693\n",
      "Income        -0.0048      0.001     -4.404      0.000      -0.007      -0.003\n",
      "Income2     4.864e-07   1.21e-07      4.028      0.000    2.43e-07    7.29e-07\n",
      "==============================================================================\n",
      "Omnibus:                        2.353   Durbin-Watson:                   1.989\n",
      "Prob(Omnibus):                  0.308   Jarque-Bera (JB):                2.200\n",
      "Skew:                           0.494   Prob(JB):                        0.333\n",
      "Kurtosis:                       2.717   Cond. No.                     7.47e+08\n",
      "==============================================================================\n",
      "\n",
      "Notes:\n",
      "[1] Standard Errors assume that the covariance matrix of the errors is correctly specified.\n",
      "[2] The condition number is large, 7.47e+08. This might indicate that there are\n",
      "strong multicollinearity or other numerical problems.\n"
     ]
    }
   ],
   "source": [
    "data['Income2'] = data['Income'] ** 2\n",
    "\n",
    "# Fit model with quadratic term\n",
    "quad_model = smf.ols(formula=\"Illiteracy ~ Income + Income2\", data=data).fit()\n",
    "print(quad_model.summary())"
   ]
  },
  {
   "cell_type": "code",
   "execution_count": 8,
   "id": "7365841c",
   "metadata": {},
   "outputs": [
    {
     "name": "stdout",
     "output_type": "stream",
     "text": [
      "Income^2 slope: 4.86386614877934e-07 | p-value: 0.00020380357998264753\n"
     ]
    }
   ],
   "source": [
    "print(\"Income^2 slope:\", quad_model.params['Income2'], \"| p-value:\", quad_model.pvalues['Income2'])"
   ]
  },
  {
   "cell_type": "code",
   "execution_count": 9,
   "id": "a40ee3d0",
   "metadata": {},
   "outputs": [
    {
     "name": "stdout",
     "output_type": "stream",
     "text": [
      "0    2.434836e-07\n",
      "1    7.292897e-07\n",
      "Name: Income2, dtype: float64\n"
     ]
    }
   ],
   "source": [
    "print(quad_model.conf_int(alpha=0.05).loc['Income2'])\n"
   ]
  },
  {
   "cell_type": "markdown",
   "id": "25074efc",
   "metadata": {},
   "source": [
    "#### Add Interaction Term ####"
   ]
  },
  {
   "cell_type": "code",
   "execution_count": 10,
   "id": "619131ce",
   "metadata": {},
   "outputs": [
    {
     "name": "stdout",
     "output_type": "stream",
     "text": [
      "                            OLS Regression Results                            \n",
      "==============================================================================\n",
      "Dep. Variable:             Illiteracy   R-squared:                       0.323\n",
      "Model:                            OLS   Adj. R-squared:                  0.278\n",
      "Method:                 Least Squares   F-statistic:                     7.303\n",
      "Date:                Sun, 26 Oct 2025   Prob (F-statistic):           0.000419\n",
      "Time:                        16:37:02   Log-Likelihood:                -35.951\n",
      "No. Observations:                  50   AIC:                             79.90\n",
      "Df Residuals:                      46   BIC:                             87.55\n",
      "Df Model:                           3                                         \n",
      "Covariance Type:            nonrobust                                         \n",
      "=====================================================================================\n",
      "                        coef    std err          t      P>|t|      [0.025      0.975]\n",
      "-------------------------------------------------------------------------------------\n",
      "Intercept             1.7918      0.774      2.316      0.025       0.234       3.349\n",
      "Income               -0.0002      0.000     -1.155      0.254      -0.001       0.000\n",
      "Population            0.0005      0.000      2.605      0.012       0.000       0.001\n",
      "Income:Population -1.062e-07   4.29e-08     -2.477      0.017   -1.93e-07   -1.99e-08\n",
      "==============================================================================\n",
      "Omnibus:                        4.074   Durbin-Watson:                   1.654\n",
      "Prob(Omnibus):                  0.130   Jarque-Bera (JB):                3.337\n",
      "Skew:                           0.520   Prob(JB):                        0.188\n",
      "Kurtosis:                       2.279   Cond. No.                     3.08e+08\n",
      "==============================================================================\n",
      "\n",
      "Notes:\n",
      "[1] Standard Errors assume that the covariance matrix of the errors is correctly specified.\n",
      "[2] The condition number is large, 3.08e+08. This might indicate that there are\n",
      "strong multicollinearity or other numerical problems.\n"
     ]
    }
   ],
   "source": [
    "interaction_model = smf.ols(formula=\"Illiteracy ~ Income * Population\", data=data).fit()\n",
    "print(interaction_model.summary())\n"
   ]
  },
  {
   "cell_type": "code",
   "execution_count": 11,
   "id": "5afbff74",
   "metadata": {},
   "outputs": [
    {
     "name": "stdout",
     "output_type": "stream",
     "text": [
      "Interaction slope: -1.0619842809124943e-07\n",
      "Confidence Interval: 0   -1.925058e-07\n",
      "1   -1.989103e-08\n",
      "Name: Income:Population, dtype: float64\n"
     ]
    }
   ],
   "source": [
    "print(\"Interaction slope:\", interaction_model.params['Income:Population'])\n",
    "print(\"Confidence Interval:\", interaction_model.conf_int().loc['Income:Population'])\n"
   ]
  },
  {
   "cell_type": "markdown",
   "id": "82e895ca",
   "metadata": {},
   "source": [
    "#### Create Indicator Variable for High/Low Income ####"
   ]
  },
  {
   "cell_type": "code",
   "execution_count": 12,
   "id": "a4e3cc0e",
   "metadata": {},
   "outputs": [
    {
     "name": "stdout",
     "output_type": "stream",
     "text": [
      "                            OLS Regression Results                            \n",
      "==============================================================================\n",
      "Dep. Variable:             Illiteracy   R-squared:                       0.111\n",
      "Model:                            OLS   Adj. R-squared:                  0.073\n",
      "Method:                 Least Squares   F-statistic:                     2.943\n",
      "Date:                Sun, 26 Oct 2025   Prob (F-statistic):             0.0625\n",
      "Time:                        16:38:12   Log-Likelihood:                -42.739\n",
      "No. Observations:                  50   AIC:                             91.48\n",
      "Df Residuals:                      47   BIC:                             97.21\n",
      "Df Model:                           2                                         \n",
      "Covariance Type:            nonrobust                                         \n",
      "==============================================================================\n",
      "                 coef    std err          t      P>|t|      [0.025      0.975]\n",
      "------------------------------------------------------------------------------\n",
      "Intercept      1.2651      0.134      9.444      0.000       0.996       1.535\n",
      "HighIncome    -0.3887      0.169     -2.296      0.026      -0.729      -0.048\n",
      "Population  2.337e-05   1.91e-05      1.220      0.229   -1.52e-05    6.19e-05\n",
      "==============================================================================\n",
      "Omnibus:                        4.041   Durbin-Watson:                   1.756\n",
      "Prob(Omnibus):                  0.133   Jarque-Bera (JB):                3.623\n",
      "Skew:                           0.579   Prob(JB):                        0.163\n",
      "Kurtosis:                       2.368   Cond. No.                     1.40e+04\n",
      "==============================================================================\n",
      "\n",
      "Notes:\n",
      "[1] Standard Errors assume that the covariance matrix of the errors is correctly specified.\n",
      "[2] The condition number is large, 1.4e+04. This might indicate that there are\n",
      "strong multicollinearity or other numerical problems.\n"
     ]
    }
   ],
   "source": [
    "median_income = data['Income'].median()\n",
    "data['HighIncome'] = np.where(data['Income'] > median_income, 1, 0)\n",
    "indicator_model = smf.ols(formula=\"Illiteracy ~ HighIncome + Population\", data=data).fit()\n",
    "print(indicator_model.summary())"
   ]
  },
  {
   "cell_type": "code",
   "execution_count": 13,
   "id": "d85969b8",
   "metadata": {},
   "outputs": [
    {
     "name": "stdout",
     "output_type": "stream",
     "text": [
      "HighIncome slope: -0.3887259273972358 | p-value: 0.026151809876558352\n",
      "Confidence Interval: 0   -0.729254\n",
      "1   -0.048198\n",
      "Name: HighIncome, dtype: float64\n"
     ]
    }
   ],
   "source": [
    "print(\"HighIncome slope:\", indicator_model.params['HighIncome'], \"| p-value:\", indicator_model.pvalues['HighIncome'])\n",
    "print(\"Confidence Interval:\", indicator_model.conf_int().loc['HighIncome'])"
   ]
  },
  {
   "cell_type": "markdown",
   "id": "68eb01a2",
   "metadata": {},
   "source": [
    "#### Log Transformation for Population ####"
   ]
  },
  {
   "cell_type": "code",
   "execution_count": 14,
   "id": "7c2be7b6",
   "metadata": {},
   "outputs": [
    {
     "name": "stdout",
     "output_type": "stream",
     "text": [
      "                            OLS Regression Results                            \n",
      "==============================================================================\n",
      "Dep. Variable:             Illiteracy   R-squared:                       0.245\n",
      "Model:                            OLS   Adj. R-squared:                  0.212\n",
      "Method:                 Least Squares   F-statistic:                     7.610\n",
      "Date:                Sun, 26 Oct 2025   Prob (F-statistic):            0.00137\n",
      "Time:                        16:39:03   Log-Likelihood:                -38.676\n",
      "No. Observations:                  50   AIC:                             83.35\n",
      "Df Residuals:                      47   BIC:                             89.09\n",
      "Df Model:                           2                                         \n",
      "Covariance Type:            nonrobust                                         \n",
      "==================================================================================\n",
      "                     coef    std err          t      P>|t|      [0.025      0.975]\n",
      "----------------------------------------------------------------------------------\n",
      "Intercept          2.0630      0.797      2.588      0.013       0.459       3.667\n",
      "Income            -0.0004      0.000     -3.509      0.001      -0.001      -0.000\n",
      "log_Population     0.1355      0.074      1.826      0.074      -0.014       0.285\n",
      "==============================================================================\n",
      "Omnibus:                        5.226   Durbin-Watson:                   1.643\n",
      "Prob(Omnibus):                  0.073   Jarque-Bera (JB):                4.994\n",
      "Skew:                           0.770   Prob(JB):                       0.0823\n",
      "Kurtosis:                       2.843   Cond. No.                     4.68e+04\n",
      "==============================================================================\n",
      "\n",
      "Notes:\n",
      "[1] Standard Errors assume that the covariance matrix of the errors is correctly specified.\n",
      "[2] The condition number is large, 4.68e+04. This might indicate that there are\n",
      "strong multicollinearity or other numerical problems.\n"
     ]
    }
   ],
   "source": [
    "data['log_Population'] = np.log(data['Population'])\n",
    "\n",
    "# Fit model with transformed variable\n",
    "log_model = smf.ols(formula=\"Illiteracy ~ Income + log_Population\", data=data).fit()\n",
    "print(log_model.summary())"
   ]
  },
  {
   "cell_type": "code",
   "execution_count": 15,
   "id": "bd582937",
   "metadata": {},
   "outputs": [
    {
     "name": "stdout",
     "output_type": "stream",
     "text": [
      "log_Population slope: 0.1355427381605727 | p-value: 0.0742392436241975\n",
      "Confidence Interval: 0   -0.013805\n",
      "1    0.284890\n",
      "Name: log_Population, dtype: float64\n"
     ]
    }
   ],
   "source": [
    "print(\"log_Population slope:\", log_model.params['log_Population'], \"| p-value:\", log_model.pvalues['log_Population'])\n",
    "print(\"Confidence Interval:\", log_model.conf_int().loc['log_Population'])"
   ]
  },
  {
   "cell_type": "markdown",
   "id": "fe62617c",
   "metadata": {},
   "source": [
    "#### Model Comparison ####"
   ]
  },
  {
   "cell_type": "code",
   "execution_count": 16,
   "id": "183e776e",
   "metadata": {},
   "outputs": [
    {
     "name": "stdout",
     "output_type": "stream",
     "text": [
      "                 Model  Adjusted R-squared\n",
      "1      Quadratic Model            0.373065\n",
      "2    Interaction Model            0.278437\n",
      "4            Log Model            0.212467\n",
      "0  Multiple Regression            0.199609\n",
      "3      Indicator Model            0.073486\n"
     ]
    }
   ],
   "source": [
    "models = {\n",
    "   \"Multiple Regression\": mlr_model.rsquared_adj,\n",
    "   \"Quadratic Model\": quad_model.rsquared_adj,\n",
    "   \"Interaction Model\": interaction_model.rsquared_adj,\n",
    "   \"Indicator Model\": indicator_model.rsquared_adj,\n",
    "   \"Log Model\": log_model.rsquared_adj\n",
    "}\n",
    "\n",
    "\n",
    "# Display models in descending order of Adjusted R-squared\n",
    "import pandas as pd\n",
    "comparison_df = pd.DataFrame(models.items(), columns=['Model', 'Adjusted R-squared']).sort_values(by='Adjusted R-squared', ascending=False)\n",
    "print(comparison_df)"
   ]
  }
 ],
 "metadata": {
  "kernelspec": {
   "display_name": "Python (win_c0c1)",
   "language": "python",
   "name": "win_c0c1"
  },
  "language_info": {
   "codemirror_mode": {
    "name": "ipython",
    "version": 3
   },
   "file_extension": ".py",
   "mimetype": "text/x-python",
   "name": "python",
   "nbconvert_exporter": "python",
   "pygments_lexer": "ipython3",
   "version": "3.12.4"
  }
 },
 "nbformat": 4,
 "nbformat_minor": 5
}
