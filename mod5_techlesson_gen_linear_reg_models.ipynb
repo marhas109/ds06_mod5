{
 "cells": [
  {
   "cell_type": "markdown",
   "id": "2a2be297",
   "metadata": {},
   "source": [
    "### Explore How GLMs Generalize Multiple Linear Regression Models ###"
   ]
  },
  {
   "cell_type": "markdown",
   "id": "3d5811fa",
   "metadata": {},
   "source": [
    "#### Data Setup and Exploration ####"
   ]
  },
  {
   "cell_type": "code",
   "execution_count": 1,
   "id": "1ee3f4d8",
   "metadata": {},
   "outputs": [
    {
     "name": "stdout",
     "output_type": "stream",
     "text": [
      "                    mpg  cyl   disp   hp  drat     wt   qsec  vs  am  gear  \\\n",
      "rownames                                                                     \n",
      "Mazda RX4          21.0    6  160.0  110  3.90  2.620  16.46   0   1     4   \n",
      "Mazda RX4 Wag      21.0    6  160.0  110  3.90  2.875  17.02   0   1     4   \n",
      "Datsun 710         22.8    4  108.0   93  3.85  2.320  18.61   1   1     4   \n",
      "Hornet 4 Drive     21.4    6  258.0  110  3.08  3.215  19.44   1   0     3   \n",
      "Hornet Sportabout  18.7    8  360.0  175  3.15  3.440  17.02   0   0     3   \n",
      "\n",
      "                   carb  \n",
      "rownames                 \n",
      "Mazda RX4             4  \n",
      "Mazda RX4 Wag         4  \n",
      "Datsun 710            1  \n",
      "Hornet 4 Drive        1  \n",
      "Hornet Sportabout     2  \n",
      "<class 'pandas.core.frame.DataFrame'>\n",
      "Index: 32 entries, Mazda RX4 to Volvo 142E\n",
      "Data columns (total 11 columns):\n",
      " #   Column  Non-Null Count  Dtype  \n",
      "---  ------  --------------  -----  \n",
      " 0   mpg     32 non-null     float64\n",
      " 1   cyl     32 non-null     int64  \n",
      " 2   disp    32 non-null     float64\n",
      " 3   hp      32 non-null     int64  \n",
      " 4   drat    32 non-null     float64\n",
      " 5   wt      32 non-null     float64\n",
      " 6   qsec    32 non-null     float64\n",
      " 7   vs      32 non-null     int64  \n",
      " 8   am      32 non-null     int64  \n",
      " 9   gear    32 non-null     int64  \n",
      " 10  carb    32 non-null     int64  \n",
      "dtypes: float64(5), int64(6)\n",
      "memory usage: 3.0+ KB\n",
      "None\n",
      "             mpg        cyl        disp          hp       drat         wt  \\\n",
      "count  32.000000  32.000000   32.000000   32.000000  32.000000  32.000000   \n",
      "mean   20.090625   6.187500  230.721875  146.687500   3.596563   3.217250   \n",
      "std     6.026948   1.785922  123.938694   68.562868   0.534679   0.978457   \n",
      "min    10.400000   4.000000   71.100000   52.000000   2.760000   1.513000   \n",
      "25%    15.425000   4.000000  120.825000   96.500000   3.080000   2.581250   \n",
      "50%    19.200000   6.000000  196.300000  123.000000   3.695000   3.325000   \n",
      "75%    22.800000   8.000000  326.000000  180.000000   3.920000   3.610000   \n",
      "max    33.900000   8.000000  472.000000  335.000000   4.930000   5.424000   \n",
      "\n",
      "            qsec         vs         am       gear     carb  \n",
      "count  32.000000  32.000000  32.000000  32.000000  32.0000  \n",
      "mean   17.848750   0.437500   0.406250   3.687500   2.8125  \n",
      "std     1.786943   0.504016   0.498991   0.737804   1.6152  \n",
      "min    14.500000   0.000000   0.000000   3.000000   1.0000  \n",
      "25%    16.892500   0.000000   0.000000   3.000000   2.0000  \n",
      "50%    17.710000   0.000000   0.000000   4.000000   2.0000  \n",
      "75%    18.900000   1.000000   1.000000   4.000000   4.0000  \n",
      "max    22.900000   1.000000   1.000000   5.000000   8.0000  \n"
     ]
    }
   ],
   "source": [
    "import pandas as pd\n",
    "import numpy as np\n",
    "import statsmodels.formula.api as smf\n",
    "import statsmodels.api as sm\n",
    "import matplotlib.pyplot as plt\n",
    "from sklearn.linear_model import LinearRegression\n",
    "from sklearn.metrics import r2_score\n",
    "\n",
    "# Import the rdatasets package\n",
    "from rdatasets import data as rdata\n",
    "\n",
    "# Load the 'cars' dataset\n",
    "cars_data = sm.datasets.get_rdataset(\"mtcars\", \"datasets\").data\n",
    "\n",
    "# Inspect the data\n",
    "print(cars_data.head())\n",
    "print(cars_data.info())\n",
    "print(cars_data.describe())"
   ]
  },
  {
   "cell_type": "markdown",
   "id": "57241689",
   "metadata": {},
   "source": [
    "#### Fit a Multivariate Regression Model ####"
   ]
  },
  {
   "cell_type": "code",
   "execution_count": 2,
   "id": "b9b74009",
   "metadata": {},
   "outputs": [
    {
     "name": "stdout",
     "output_type": "stream",
     "text": [
      "Intercepts: [37.28512617 -1.82092177]\n",
      "Coefficients: [[-5.34447157]\n",
      " [46.16005028]]\n"
     ]
    }
   ],
   "source": [
    "from sklearn.linear_model import LinearRegression\n",
    "\n",
    "# Define predictors (X) and response variables (Y)\n",
    "X = cars_data[['wt']]  # Predictor: weight of the car\n",
    "Y = cars_data[['mpg', 'hp']]  # Response variables: mpg and hp\n",
    "\n",
    "# Initialize and fit the multivariate regression model\n",
    "multi_reg = LinearRegression().fit(X, Y)\n",
    "\n",
    "# Extract coefficients and intercepts\n",
    "print(\"Intercepts:\", multi_reg.intercept_)\n",
    "print(\"Coefficients:\", multi_reg.coef_)"
   ]
  },
  {
   "cell_type": "markdown",
   "id": "85897757",
   "metadata": {},
   "source": [
    "#### Model Evaluation ####"
   ]
  },
  {
   "cell_type": "code",
   "execution_count": 3,
   "id": "09a13735",
   "metadata": {},
   "outputs": [
    {
     "name": "stdout",
     "output_type": "stream",
     "text": [
      "R-squared for mpg: 0.753\n",
      "R-squared for hp: 0.434\n"
     ]
    }
   ],
   "source": [
    "from sklearn.metrics import r2_score\n",
    "\n",
    "# Predict the response variables\n",
    "Y_pred = multi_reg.predict(X)\n",
    "\n",
    "# Compute R-squared for each response variable\n",
    "r2_mpg = r2_score(Y['mpg'], Y_pred[:, 0])  # R-squared for mpg\n",
    "r2_hp = r2_score(Y['hp'], Y_pred[:, 1])  # R-squared for hp\n",
    "\n",
    "print(f\"R-squared for mpg: {r2_mpg:.3f}\")\n",
    "print(f\"R-squared for hp: {r2_hp:.3f}\")"
   ]
  },
  {
   "cell_type": "markdown",
   "id": "55360f32",
   "metadata": {},
   "source": [
    "#### Add Quadratic Terms ####"
   ]
  },
  {
   "cell_type": "code",
   "execution_count": 5,
   "id": "0bd1c13c",
   "metadata": {},
   "outputs": [
    {
     "name": "stdout",
     "output_type": "stream",
     "text": [
      "Updated Intercepts: [ 49.93081095 -76.73441384]\n",
      "Updated Coefficients: [[-13.38033708   1.17108689]\n",
      " [ 93.76480697  -6.93756093]]\n"
     ]
    }
   ],
   "source": [
    "# Add quadratic term: weight squared\n",
    "cars_data['wt_squared'] = cars_data['wt'] ** 2\n",
    "\n",
    "# Update predictors\n",
    "X_quad = cars_data[['wt', 'wt_squared']]\n",
    "\n",
    "# Fit the updated model\n",
    "multi_reg_quad = LinearRegression().fit(X_quad, Y)\n",
    "\n",
    "# Extract coefficients and intercepts\n",
    "print(\"Updated Intercepts:\", multi_reg_quad.intercept_)\n",
    "print(\"Updated Coefficients:\", multi_reg_quad.coef_)\n"
   ]
  },
  {
   "cell_type": "markdown",
   "id": "e85763e1",
   "metadata": {},
   "source": [
    "#### Model Comparison Using R-squared #### "
   ]
  },
  {
   "cell_type": "code",
   "execution_count": 6,
   "id": "3bec8427",
   "metadata": {},
   "outputs": [
    {
     "name": "stdout",
     "output_type": "stream",
     "text": [
      "Updated R-squared for mpg: 0.819\n",
      "Updated R-squared for hp: 0.452\n"
     ]
    }
   ],
   "source": [
    "# Predict using the updated model\n",
    "Y_pred_quad = multi_reg_quad.predict(X_quad)\n",
    "\n",
    "# Compute R-squared for the updated model\n",
    "r2_mpg_quad = r2_score(Y['mpg'], Y_pred_quad[:, 0])\n",
    "r2_hp_quad = r2_score(Y['hp'], Y_pred_quad[:, 1])\n",
    "\n",
    "print(f\"Updated R-squared for mpg: {r2_mpg_quad:.3f}\")\n",
    "print(f\"Updated R-squared for hp: {r2_hp_quad:.3f}\")"
   ]
  },
  {
   "cell_type": "markdown",
   "id": "4037b7dd",
   "metadata": {},
   "source": [
    "#### Final Model and Recommendations ####"
   ]
  },
  {
   "cell_type": "code",
   "execution_count": 8,
   "id": "1c32e058",
   "metadata": {},
   "outputs": [
    {
     "name": "stdout",
     "output_type": "stream",
     "text": [
      "| Metric            |   GLM Model |   Quadractic Model |\n",
      "|:------------------|------------:|-------------------:|\n",
      "| R-squared for mpg |    0.752833 |           0.819061 |\n",
      "| R-squared for hp  |    0.433949 |           0.451908 |\n"
     ]
    }
   ],
   "source": [
    "# Create a dictionary to store the values\n",
    "data = {\n",
    "   'Metric': ['R-squared for mpg', 'R-squared for hp'],\n",
    "   'GLM Model': [r2_mpg, r2_hp],\n",
    "   'Quadractic Model': [r2_mpg_quad, r2_hp_quad]\n",
    "}\n",
    "\n",
    "# Create a pandas DataFrame\n",
    "df = pd.DataFrame(data)\n",
    "\n",
    "# Display the DataFrame as a table\n",
    "print(df.to_markdown(index=False))"
   ]
  }
 ],
 "metadata": {
  "kernelspec": {
   "display_name": "Python (win_c0c1)",
   "language": "python",
   "name": "win_c0c1"
  },
  "language_info": {
   "codemirror_mode": {
    "name": "ipython",
    "version": 3
   },
   "file_extension": ".py",
   "mimetype": "text/x-python",
   "name": "python",
   "nbconvert_exporter": "python",
   "pygments_lexer": "ipython3",
   "version": "3.12.4"
  }
 },
 "nbformat": 4,
 "nbformat_minor": 5
}
